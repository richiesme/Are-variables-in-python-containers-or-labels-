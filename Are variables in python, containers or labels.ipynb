{
 "cells": [
  {
   "cell_type": "markdown",
   "metadata": {},
   "source": [
    "### PART 2 CONTD. PUZZLING BEHAVIOUR OF PYTHON VARIABLE.\n",
    "### Are Python variables, containers or labels?"
   ]
  },
  {
   "cell_type": "markdown",
   "metadata": {},
   "source": [
    "### Objective \n",
    "#### - By the end of this section, you would have been able to understand the concept of variables as containers and labels\n",
    "#### - You would be able to explain why immutable and mutable objects behave the way they do when used as variables."
   ]
  },
  {
   "cell_type": "markdown",
   "metadata": {},
   "source": [
    "#### In the previous section of this series, we looked at the puzzling behaviour of python variables vis a vis it's mutability/ immutability and we were able to establish that immutable objects such as int, floats, strings, and tuples do not by python design allow you to change it's value and an attempt to change the value of one variable that is set to be same to another would only create a different object and does not affect the other variable. \n",
    "#### However, this is not so for mutable objects such as lists and dictionaries. Because, when you change an element within a list or dictionary that is set to be same as another, the value of the object changes and is effected within the other variable. \n",
    "#### In this section we are going to look at why this is so. But firstly, I would like for us to know that in python, everything is treated as an object. And every object has three attributes namely:\n",
    "\n",
    "   -  _**Type - This is the kind of object created, e.g int, string etc.**_\n",
    "   -  _**Identity - This refers to the location or address that the object is located within the computter memory**_\n",
    "   -  _**Value - This is the value stored by the object within the computer's memory, e.g x = 3 would mean an int holds the value 3.**_\n",
    "   \n",
    "#### Also, while ID and Type cannot be changed once created, values can be changed for Mutable objects.\n",
    "#### So, let's take advantage of the ID attribute using id() function on the examples from our previous section to see the numerical representation of the memory location of an object to show you what happens when the value of an object is changed. \n",
    "#### Note that when declaring a variable in C, you have to declare it's type unlike in python where variables are created automatically when they're first assigned and does not require an end-of-line delimeter as shown below; "
   ]
  },
  {
   "cell_type": "markdown",
   "metadata": {},
   "source": [
    "\n",
    "    -Declaring a variable in C:\n",
    "         int a = 10;  (C programming, requires that you initialize with type when declaring a variable, int refers to interger type variable)\n",
    "        \n",
    "    -Declaring the same type variable in Python:\n",
    "         a = 10\n",
    "        \n",
    "#### Also, for the purpose of this section, let's take a look at a general but inaccurate explanation of variables, that it is a container that holds or stores a value. Well, this could be valid for many programming languages like C programming language for instance.\n",
    "#### However, in python, the name variable could be misleading instead \"label\" or \"name\" would be a more accurate term. But at some point we will use the term variable and whatever we call it doesn't matter rather it is imperative that we understand how variables work in python.\n",
    "#### In python, when variables are refered to as labels, it makes it possible for any number of labels (variables) to refer to the same object, and when that object changes, the values referred to by that/ those variable(s) changes.\n",
    "#### Let's see an example;"
   ]
  },
  {
   "cell_type": "code",
   "execution_count": 1,
   "metadata": {},
   "outputs": [
    {
     "name": "stdout",
     "output_type": "stream",
     "text": [
      "[1, 2, 6, 4] [1, 2, 6, 4] [1, 2, 6, 4]\n"
     ]
    }
   ],
   "source": [
    "a = [1, 2, 3, 4]\n",
    "b = a \n",
    "c = b \n",
    "b[2] = 6\n",
    "print(a, b, c)"
   ]
  },
  {
   "cell_type": "markdown",
   "metadata": {},
   "source": [
    "#### Looking at the above code example, we would see that when we changed the content of one container, it reflected in the other container which really do not make any sense because why should changing the content of one container simulteneously change the content of another container but if we were to consider variables as labels, it makes perfect sense to say that changing the object which all three labels refer to would reflect everywhere."
   ]
  },
  {
   "cell_type": "markdown",
   "metadata": {},
   "source": [
    "#### However, if the variables are referring to constants or immutable values, the case is somewhat confusing, take the example code below for instance:"
   ]
  },
  {
   "cell_type": "code",
   "execution_count": 14,
   "metadata": {},
   "outputs": [
    {
     "name": "stdout",
     "output_type": "stream",
     "text": [
      "5 10 5\n"
     ]
    }
   ],
   "source": [
    "a = 5 \n",
    "b = a \n",
    "c = b\n",
    "b = 10\n",
    "print(a, b, c)"
   ]
  },
  {
   "cell_type": "markdown",
   "metadata": {},
   "source": [
    "#### You will observe that the behaviour of the variable is consistent with either as a container or as a label. If we check using the id() function, we will see that from the third line going up a, b and c refers to the value 5 while after the third line going downward b refers to the value 10 and does not affect the references of a and c as seen below;"
   ]
  },
  {
   "cell_type": "code",
   "execution_count": 15,
   "metadata": {},
   "outputs": [
    {
     "name": "stdout",
     "output_type": "stream",
     "text": [
      "a: 5, id(a): 140715589117856\n",
      "b: 5, id(b): 140715589117856\n",
      "c: 5, id(c): 140715589117856\n",
      "b: 10, id(b): 140715589118016\n",
      "5 10 5\n"
     ]
    }
   ],
   "source": [
    "a = 5\n",
    "b = a \n",
    "c = b\n",
    "print(f\"a: {a}, id(a): {id(a)}\\nb: {b}, id(b): {id(b)}\\nc: {c}, id(c): {id(c)}\")\n",
    "b = 10\n",
    "print(f\"b: {b}, id(b): {id(b)}\")\n",
    "print(a, b, c)"
   ]
  },
  {
   "cell_type": "markdown",
   "metadata": {},
   "source": [
    "#### We see above, that changing the value of b resulted in the creation of a new object with a different id.\n",
    "#### Now, let us experiment with the id() function on the different object types using sample codes from the previous section"
   ]
  },
  {
   "cell_type": "markdown",
   "metadata": {},
   "source": [
    "### Checking for int"
   ]
  },
  {
   "cell_type": "code",
   "execution_count": 13,
   "metadata": {},
   "outputs": [
    {
     "name": "stdout",
     "output_type": "stream",
     "text": [
      "x: 2, id(x): 140715589117760\n",
      "y: 2, id(y): 140715589117760\n",
      "x: 2, id(x): 140715589117760\n",
      "y: 3, id(y): 140715589117792\n"
     ]
    }
   ],
   "source": [
    "# Assign a int object value to variable x\n",
    "x = 2\n",
    "print(f\"x: {x}, id(x): {id(x)}\")\n",
    "\n",
    "# Let us now assign variable x to another variable y\n",
    "y = x\n",
    "print(f\"y: {y}, id(y): {id(y)}\")\n",
    "# changing the variable y value\n",
    "y = 3\n",
    "# let's print to see the output\n",
    "print(f\"x: {x}, id(x): {id(x)}\\ny: {y}, id(y): {id(y)}\")\n"
   ]
  },
  {
   "cell_type": "markdown",
   "metadata": {},
   "source": [
    "#### For the int variable object it is observed that changing the value of y actually did result to the creation of a new object in the memory with a different reference identity as seen."
   ]
  },
  {
   "cell_type": "markdown",
   "metadata": {},
   "source": [
    "### Checking for Float(s)"
   ]
  },
  {
   "cell_type": "code",
   "execution_count": 1,
   "metadata": {},
   "outputs": [
    {
     "name": "stdout",
     "output_type": "stream",
     "text": [
      "x: 1.03, id(x): 2237695744144\n",
      "y: 3.134, id(y): 2237695296336\n"
     ]
    }
   ],
   "source": [
    "x = 1.03\n",
    "y = x \n",
    "\n",
    "# Changing the variable y value\n",
    "y = 3.134\n",
    "\n",
    "# Printing the output\n",
    "print(f\"x: {x}, id(x): {id(x)}\\ny: {y}, id(y): {id(y)}\")"
   ]
  },
  {
   "cell_type": "markdown",
   "metadata": {},
   "source": [
    "#### Also, it is the same with float(s) as changing the value of y led to the creation of another object with in the memory as seen with the different id"
   ]
  },
  {
   "cell_type": "markdown",
   "metadata": {},
   "source": [
    "### Checking for String(s)"
   ]
  },
  {
   "cell_type": "code",
   "execution_count": 2,
   "metadata": {},
   "outputs": [
    {
     "name": "stdout",
     "output_type": "stream",
     "text": [
      "x: apple, id(x): 2237696011056\n",
      "y: cat, id(y): 2239776229424\n"
     ]
    }
   ],
   "source": [
    "x = \"apple\"\n",
    "y = x\n",
    "\n",
    "# Assigning the varibale y a different value\n",
    "y = \"cat\"\n",
    "\n",
    "# Printing the output\n",
    "print(f\"x: {x}, id(x): {id(x)}\\ny: {y}, id(y): {id(y)}\")"
   ]
  },
  {
   "cell_type": "markdown",
   "metadata": {},
   "source": [
    "#### Just like int(s) and Float(s), when the value of a string variable objects is changed a new object is created and the object takes a different memory id. "
   ]
  },
  {
   "cell_type": "markdown",
   "metadata": {},
   "source": [
    "### Checking for Tuple(s)"
   ]
  },
  {
   "cell_type": "code",
   "execution_count": 3,
   "metadata": {},
   "outputs": [
    {
     "ename": "TypeError",
     "evalue": "'tuple' object does not support item assignment",
     "output_type": "error",
     "traceback": [
      "\u001b[1;31m---------------------------------------------------------------------------\u001b[0m",
      "\u001b[1;31mTypeError\u001b[0m                                 Traceback (most recent call last)",
      "\u001b[1;32m<ipython-input-3-30f15101ef6c>\u001b[0m in \u001b[0;36m<module>\u001b[1;34m\u001b[0m\n\u001b[0;32m      5\u001b[0m \u001b[1;33m\u001b[0m\u001b[0m\n\u001b[0;32m      6\u001b[0m \u001b[1;31m# Attempting to change an element in the variable x value\u001b[0m\u001b[1;33m\u001b[0m\u001b[1;33m\u001b[0m\u001b[1;33m\u001b[0m\u001b[0m\n\u001b[1;32m----> 7\u001b[1;33m \u001b[0mx\u001b[0m\u001b[1;33m[\u001b[0m\u001b[1;36m1\u001b[0m\u001b[1;33m]\u001b[0m \u001b[1;33m=\u001b[0m \u001b[1;34m\"dog\"\u001b[0m\u001b[1;33m\u001b[0m\u001b[1;33m\u001b[0m\u001b[0m\n\u001b[0m\u001b[0;32m      8\u001b[0m \u001b[1;33m\u001b[0m\u001b[0m\n\u001b[0;32m      9\u001b[0m \u001b[1;31m# Printing the output\u001b[0m\u001b[1;33m\u001b[0m\u001b[1;33m\u001b[0m\u001b[1;33m\u001b[0m\u001b[0m\n",
      "\u001b[1;31mTypeError\u001b[0m: 'tuple' object does not support item assignment"
     ]
    }
   ],
   "source": [
    "x = (1, \"cat\", \"apple\", 2.107, 7)\n",
    "\n",
    "# Assigning x to y\n",
    "y = x \n",
    "\n",
    "# Attempting to change an element in the variable x value\n",
    "x[1] = \"dog\"\n",
    "\n",
    "# Printing the output\n",
    "print(f\"x: {x}, id(x): {id(x)}\\ny: {y}, id(y): {id(y)}\")"
   ]
  },
  {
   "cell_type": "markdown",
   "metadata": {},
   "source": [
    "#### From our previous tuple experiment we already know that python by design does not allow tuple objects to make changes to element within an already initialised tuple. Though, we can assign a different value to the variable."
   ]
  },
  {
   "cell_type": "markdown",
   "metadata": {},
   "source": [
    "### Assign a different value to tuple object"
   ]
  },
  {
   "cell_type": "code",
   "execution_count": 4,
   "metadata": {},
   "outputs": [
    {
     "name": "stdout",
     "output_type": "stream",
     "text": [
      "x: (1, 'cat', 'apple', 2.107, 7), id(x): 2237695862800\n",
      "y: (1, 'dog', 'orange', 5.8, 9), id(y): 2237695604352\n"
     ]
    }
   ],
   "source": [
    "x = (1, \"cat\", \"apple\", 2.107, 7)\n",
    "# Let us now assign variable x to a second variable y\n",
    "y = x \n",
    "\n",
    "# Asigning the variable y a different value\n",
    "y = (1, \"dog\", \"orange\", 5.8, 9)\n",
    "\n",
    "# Printing the output\n",
    "print(f\"x: {x}, id(x): {id(x)}\\ny: {y}, id(y): {id(y)}\")"
   ]
  },
  {
   "cell_type": "markdown",
   "metadata": {},
   "source": [
    "#### As shown in the output, we see that the id of y changes following the reassignment of another value to the tuple variable object"
   ]
  },
  {
   "cell_type": "markdown",
   "metadata": {},
   "source": [
    "### Conclusion for Immutable(s)\n",
    "#### For the following int, string, float, tuples\n",
    "- **As experimented above we are able to ascertain that changing the value of an immutable object results to the creation of a different object which occupies it's own location within the memory with a different identity.**\n",
    "- **And as expected, changing the value of one object does not affect the value of the other object.**"
   ]
  },
  {
   "cell_type": "markdown",
   "metadata": {},
   "source": [
    "### Checking for List(s)"
   ]
  },
  {
   "cell_type": "code",
   "execution_count": 5,
   "metadata": {},
   "outputs": [
    {
     "name": "stdout",
     "output_type": "stream",
     "text": [
      "x: [1, 2, 'girl', 'boy'], id(x): 2237696382016\n",
      "y: [1, 2, 'girl', 'boy'], id(y): 2237696382016\n"
     ]
    }
   ],
   "source": [
    "# Let us assign a value to a variable x in python\n",
    "# Note that unlike arrays, python list allows for list objects to\n",
    "# contain different object/data types\n",
    "x = [1, 2, 3, \"boy\"]\n",
    "\n",
    "# Now assign x to a second variable y \n",
    "y = x\n",
    "\n",
    "# Let's now try to change an element in the variable list x using\n",
    "# the location index which is zero indexed that is starting from\n",
    "# zero\n",
    "x[2] = \"girl\"\n",
    "\n",
    "# Printing the output we have\n",
    "print(f\"x: {x}, id(x): {id(x)}\\ny: {y}, id(y): {id(y)}\")"
   ]
  },
  {
   "cell_type": "code",
   "execution_count": 6,
   "metadata": {},
   "outputs": [
    {
     "name": "stdout",
     "output_type": "stream",
     "text": [
      "x: [1, 2, 3, 'boy'], id(x): 2237695801728\n",
      "y: [4, 5, 6, 'girl'], id(y): 2237695799552\n"
     ]
    }
   ],
   "source": [
    "x = [1, 2, 3, \"boy\"]\n",
    "\n",
    "y = x\n",
    "\n",
    "# Now, assigning a different list to y to check \n",
    "y = [4, 5, 6, \"girl\"]\n",
    "\n",
    "#printing the output\n",
    "print(f\"x: {x}, id(x): {id(x)}\\ny: {y}, id(y): {id(y)}\")"
   ]
  },
  {
   "cell_type": "markdown",
   "metadata": {},
   "source": [
    "### Checking for Dictionaries"
   ]
  },
  {
   "cell_type": "code",
   "execution_count": 7,
   "metadata": {},
   "outputs": [
    {
     "name": "stdout",
     "output_type": "stream",
     "text": [
      "x: {'one': 1, 'two': 2, 'three': 9}, id(x): 2237696051840\n",
      "y: {'one': 1, 'two': 2, 'three': 9}, id(y): 2237696051840\n"
     ]
    }
   ],
   "source": [
    "# Let us assign a dictionary object to a variable x\n",
    "# Note dictionaries in python are key, value pairs\n",
    "x = {\"one\": 1, \"two\": 2, \"three\": 3}\n",
    "y = x \n",
    "\n",
    "# Let's now make changes to y\n",
    "y[\"three\"] = 9\n",
    "\n",
    "#printing the output\n",
    "print(f\"x: {x}, id(x): {id(x)}\\ny: {y}, id(y): {id(y)}\")"
   ]
  },
  {
   "cell_type": "code",
   "execution_count": 9,
   "metadata": {},
   "outputs": [
    {
     "name": "stdout",
     "output_type": "stream",
     "text": [
      "x: {'one': 1, 'two': 2, 'three': 3}, id(x): 2237696696896\n",
      "y: {'four': 4, 'five': 5, 'six': 6}, id(y): 2237696674368\n"
     ]
    }
   ],
   "source": [
    "# Assigning a dictionary object to a variable x\n",
    "x = {\"one\": 1, \"two\": 2, \"three\": 3}\n",
    "y = x \n",
    "\n",
    "# Let's now assign a different dictionary to y\n",
    "y = {\"four\": 4, \"five\": 5, \"six\": 6}\n",
    "\n",
    "#printing the output\n",
    "print(f\"x: {x}, id(x): {id(x)}\\ny: {y}, id(y): {id(y)}\")"
   ]
  },
  {
   "cell_type": "markdown",
   "metadata": {},
   "source": [
    "### Conclusion for mutable(s)\n",
    "#### For the following List(s) and Dictionaries\n",
    "- **It is established that when a list or dictionary have two variables set to be same, and you change the value of one variable it is reflected in the other and the two variables(labels) will reference or point to the same object, so we say variables for mutable object in this context is best refered to as labels and not containers because you can have several variables pointing to the same id of an object.**\n",
    "- **But, when you assign a different object to one variable then you will have a situation where a new object with a different ID is created.**"
   ]
  },
  {
   "cell_type": "markdown",
   "metadata": {},
   "source": [
    "### In the next section, we will be taking a deeper dive into this concept, it's applications and exceptions too"
   ]
  },
  {
   "cell_type": "markdown",
   "metadata": {},
   "source": [
    "### But in the meantime, we would appreciate your feed back.¶\n",
    "### How useful did you find this resource? What did you find helpful about it? What do you think would have helped instead? Thank you so much"
   ]
  }
 ],
 "metadata": {
  "kernelspec": {
   "display_name": "Python 3",
   "language": "python",
   "name": "python3"
  },
  "language_info": {
   "codemirror_mode": {
    "name": "ipython",
    "version": 3
   },
   "file_extension": ".py",
   "mimetype": "text/x-python",
   "name": "python",
   "nbconvert_exporter": "python",
   "pygments_lexer": "ipython3",
   "version": "3.8.5"
  }
 },
 "nbformat": 4,
 "nbformat_minor": 4
}
