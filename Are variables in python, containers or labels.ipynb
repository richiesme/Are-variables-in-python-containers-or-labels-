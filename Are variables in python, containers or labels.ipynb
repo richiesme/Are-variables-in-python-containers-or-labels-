{
 "cells": [
  {
   "cell_type": "markdown",
   "metadata": {},
   "source": [
    "### Milestone 2 Submission"
   ]
  },
  {
   "cell_type": "markdown",
   "metadata": {},
   "source": [
    "### Checking for int"
   ]
  },
  {
   "cell_type": "code",
   "execution_count": 5,
   "metadata": {},
   "outputs": [
    {
     "name": "stdout",
     "output_type": "stream",
     "text": [
      "id(x): 140717404202816\n",
      "id(y): 140717404202816, id(x): 140717404202816\n",
      "id(y): 140717404202848\n",
      "x: 2, id(x): 140717404202816\n",
      "y: 3, id(y): 140717404202848\n"
     ]
    }
   ],
   "source": [
    "# Assign a int object value to variable x\n",
    "x = 2\n",
    "print(f\"id(x): {id(x)}\")\n",
    "\n",
    "# Let us now assign variable x to another variable y\n",
    "y = x\n",
    "print(f\"id(y): {id(y)}, id(x): {id(x)}\")\n",
    "# changing the variable y value\n",
    "y = 3\n",
    "print(f\"id(y): {id(y)}\")\n",
    "# let's print to see the output\n",
    "print(f\"x: {x}, id(x): {id(x)}\\ny: {y}, id(y): {id(y)}\")\n"
   ]
  },
  {
   "cell_type": "markdown",
   "metadata": {},
   "source": [
    "#### For the int variable object it is observed that changing the value of y actually did result to the creation of a new object in the memory with a different reference identity as seen."
   ]
  },
  {
   "cell_type": "markdown",
   "metadata": {},
   "source": [
    "### Checking for Float(s)"
   ]
  },
  {
   "cell_type": "code",
   "execution_count": 1,
   "metadata": {},
   "outputs": [
    {
     "name": "stdout",
     "output_type": "stream",
     "text": [
      "x: 1.03, id(x): 2237695744144\n",
      "y: 3.134, id(y): 2237695296336\n"
     ]
    }
   ],
   "source": [
    "x = 1.03\n",
    "y = x \n",
    "\n",
    "# Changing the variable y value\n",
    "y = 3.134\n",
    "\n",
    "# Printing the output\n",
    "print(f\"x: {x}, id(x): {id(x)}\\ny: {y}, id(y): {id(y)}\")"
   ]
  },
  {
   "cell_type": "markdown",
   "metadata": {},
   "source": [
    "#### Also, it is the same with float(s) as changing the value of y led to the creation of another object with in the memory as seen with the different id"
   ]
  },
  {
   "cell_type": "markdown",
   "metadata": {},
   "source": [
    "### Checking for String(s)"
   ]
  },
  {
   "cell_type": "code",
   "execution_count": 2,
   "metadata": {},
   "outputs": [
    {
     "name": "stdout",
     "output_type": "stream",
     "text": [
      "x: apple, id(x): 2237696011056\n",
      "y: cat, id(y): 2239776229424\n"
     ]
    }
   ],
   "source": [
    "x = \"apple\"\n",
    "y = x\n",
    "\n",
    "# Assigning the varibale y a different value\n",
    "y = \"cat\"\n",
    "\n",
    "# Printing the output\n",
    "print(f\"x: {x}, id(x): {id(x)}\\ny: {y}, id(y): {id(y)}\")"
   ]
  },
  {
   "cell_type": "markdown",
   "metadata": {},
   "source": [
    "#### Just like int(s) and Float(s), when the value of a string variable objects is changed a new object is created and the object takes a different memory id. "
   ]
  },
  {
   "cell_type": "markdown",
   "metadata": {},
   "source": [
    "### Checking for Tuple(s)"
   ]
  },
  {
   "cell_type": "code",
   "execution_count": 3,
   "metadata": {},
   "outputs": [
    {
     "ename": "TypeError",
     "evalue": "'tuple' object does not support item assignment",
     "output_type": "error",
     "traceback": [
      "\u001b[1;31m---------------------------------------------------------------------------\u001b[0m",
      "\u001b[1;31mTypeError\u001b[0m                                 Traceback (most recent call last)",
      "\u001b[1;32m<ipython-input-3-30f15101ef6c>\u001b[0m in \u001b[0;36m<module>\u001b[1;34m\u001b[0m\n\u001b[0;32m      5\u001b[0m \u001b[1;33m\u001b[0m\u001b[0m\n\u001b[0;32m      6\u001b[0m \u001b[1;31m# Attempting to change an element in the variable x value\u001b[0m\u001b[1;33m\u001b[0m\u001b[1;33m\u001b[0m\u001b[1;33m\u001b[0m\u001b[0m\n\u001b[1;32m----> 7\u001b[1;33m \u001b[0mx\u001b[0m\u001b[1;33m[\u001b[0m\u001b[1;36m1\u001b[0m\u001b[1;33m]\u001b[0m \u001b[1;33m=\u001b[0m \u001b[1;34m\"dog\"\u001b[0m\u001b[1;33m\u001b[0m\u001b[1;33m\u001b[0m\u001b[0m\n\u001b[0m\u001b[0;32m      8\u001b[0m \u001b[1;33m\u001b[0m\u001b[0m\n\u001b[0;32m      9\u001b[0m \u001b[1;31m# Printing the output\u001b[0m\u001b[1;33m\u001b[0m\u001b[1;33m\u001b[0m\u001b[1;33m\u001b[0m\u001b[0m\n",
      "\u001b[1;31mTypeError\u001b[0m: 'tuple' object does not support item assignment"
     ]
    }
   ],
   "source": [
    "x = (1, \"cat\", \"apple\", 2.107, 7)\n",
    "\n",
    "# Assigning x to y\n",
    "y = x \n",
    "\n",
    "# Attempting to change an element in the variable x value\n",
    "x[1] = \"dog\"\n",
    "\n",
    "# Printing the output\n",
    "print(f\"x: {x}, id(x): {id(x)}\\ny: {y}, id(y): {id(y)}\")"
   ]
  },
  {
   "cell_type": "markdown",
   "metadata": {},
   "source": [
    "#### From our previous tuple experiment we already know that python by design does not allow tuple objects to make changes to element within an already initialised tuple. Though, we can assign a different value to the variable."
   ]
  },
  {
   "cell_type": "markdown",
   "metadata": {},
   "source": [
    "### Assign a different value to tuple object"
   ]
  },
  {
   "cell_type": "code",
   "execution_count": 4,
   "metadata": {},
   "outputs": [
    {
     "name": "stdout",
     "output_type": "stream",
     "text": [
      "x: (1, 'cat', 'apple', 2.107, 7), id(x): 2237695862800\n",
      "y: (1, 'dog', 'orange', 5.8, 9), id(y): 2237695604352\n"
     ]
    }
   ],
   "source": [
    "x = (1, \"cat\", \"apple\", 2.107, 7)\n",
    "# Let us now assign variable x to a second variable y\n",
    "y = x \n",
    "\n",
    "# Asigning the variable y a different value\n",
    "y = (1, \"dog\", \"orange\", 5.8, 9)\n",
    "\n",
    "# Printing the output\n",
    "print(f\"x: {x}, id(x): {id(x)}\\ny: {y}, id(y): {id(y)}\")"
   ]
  },
  {
   "cell_type": "markdown",
   "metadata": {},
   "source": [
    "#### As shown in the output, we see that the id of y changes following the change in reassignment of another value to the tuple variable object"
   ]
  },
  {
   "cell_type": "markdown",
   "metadata": {},
   "source": [
    "### Conclusion for Immutable(s)\n",
    "#### For the following int, string, float, tuples\n",
    "- **As experimented above we are able to ascertain that changing the value of an immutable object results to the creation of a different object which occupies it's own location within the memory with a different identity even if the same label references it.**\n",
    "- **And as expected, changing the value of one object does not affect the value of the other object.**"
   ]
  },
  {
   "cell_type": "markdown",
   "metadata": {},
   "source": [
    "### Checking for List(s)"
   ]
  },
  {
   "cell_type": "code",
   "execution_count": 5,
   "metadata": {},
   "outputs": [
    {
     "name": "stdout",
     "output_type": "stream",
     "text": [
      "x: [1, 2, 'girl', 'boy'], id(x): 2237696382016\n",
      "y: [1, 2, 'girl', 'boy'], id(y): 2237696382016\n"
     ]
    }
   ],
   "source": [
    "# Let us assign a value to a variable x in python\n",
    "# Note that unlike arrays, python list allows for list objects to\n",
    "# contain different object/data types\n",
    "x = [1, 2, 3, \"boy\"]\n",
    "\n",
    "# Now assign x to a second variable y \n",
    "y = x\n",
    "\n",
    "# Let's now try to change an element in the variable list x using\n",
    "# the location index which is zero indexed that is starting from\n",
    "# zero\n",
    "x[2] = \"girl\"\n",
    "\n",
    "# Printing the output we have\n",
    "print(f\"x: {x}, id(x): {id(x)}\\ny: {y}, id(y): {id(y)}\")"
   ]
  },
  {
   "cell_type": "code",
   "execution_count": 6,
   "metadata": {},
   "outputs": [
    {
     "name": "stdout",
     "output_type": "stream",
     "text": [
      "x: [1, 2, 3, 'boy'], id(x): 2237695801728\n",
      "y: [4, 5, 6, 'girl'], id(y): 2237695799552\n"
     ]
    }
   ],
   "source": [
    "x = [1, 2, 3, \"boy\"]\n",
    "\n",
    "y = x\n",
    "\n",
    "# Now, assigning a different list to y to check \n",
    "y = [4, 5, 6, \"girl\"]\n",
    "\n",
    "#printing the output\n",
    "print(f\"x: {x}, id(x): {id(x)}\\ny: {y}, id(y): {id(y)}\")"
   ]
  },
  {
   "cell_type": "markdown",
   "metadata": {},
   "source": [
    "### Checking for Dictionaries"
   ]
  },
  {
   "cell_type": "code",
   "execution_count": 7,
   "metadata": {},
   "outputs": [
    {
     "name": "stdout",
     "output_type": "stream",
     "text": [
      "x: {'one': 1, 'two': 2, 'three': 9}, id(x): 2237696051840\n",
      "y: {'one': 1, 'two': 2, 'three': 9}, id(y): 2237696051840\n"
     ]
    }
   ],
   "source": [
    "# Let us assign a dictionary object to a variable x\n",
    "# Note dictionaries in python are key, value pairs\n",
    "x = {\"one\": 1, \"two\": 2, \"three\": 3}\n",
    "y = x \n",
    "\n",
    "# Let's now make changes to y\n",
    "y[\"three\"] = 9\n",
    "\n",
    "#printing the output\n",
    "print(f\"x: {x}, id(x): {id(x)}\\ny: {y}, id(y): {id(y)}\")"
   ]
  },
  {
   "cell_type": "code",
   "execution_count": 9,
   "metadata": {},
   "outputs": [
    {
     "name": "stdout",
     "output_type": "stream",
     "text": [
      "x: {'one': 1, 'two': 2, 'three': 3}, id(x): 2237696696896\n",
      "y: {'four': 4, 'five': 5, 'six': 6}, id(y): 2237696674368\n"
     ]
    }
   ],
   "source": [
    "# Assigning a dictionary object to a variable x\n",
    "x = {\"one\": 1, \"two\": 2, \"three\": 3}\n",
    "y = x \n",
    "\n",
    "# Let's now assign a different dictionary to y\n",
    "y = {\"four\": 4, \"five\": 5, \"six\": 6}\n",
    "\n",
    "#printing the output\n",
    "print(f\"x: {x}, id(x): {id(x)}\\ny: {y}, id(y): {id(y)}\")"
   ]
  },
  {
   "cell_type": "markdown",
   "metadata": {},
   "source": [
    "### Conclusion for mutable(s)\n",
    "#### For the following List(s) and Dictionaries\n",
    "- **It is established that changing an element within a lists or dictionaries just creates another label that points to the same object so we say variables for mutable object in this context is best refered to as labels and not containers.**\n",
    "- **Also, that the change will affect both variables.**"
   ]
  },
  {
   "cell_type": "code",
   "execution_count": null,
   "metadata": {},
   "outputs": [],
   "source": []
  }
 ],
 "metadata": {
  "kernelspec": {
   "display_name": "Python 3",
   "language": "python",
   "name": "python3"
  },
  "language_info": {
   "codemirror_mode": {
    "name": "ipython",
    "version": 3
   },
   "file_extension": ".py",
   "mimetype": "text/x-python",
   "name": "python",
   "nbconvert_exporter": "python",
   "pygments_lexer": "ipython3",
   "version": "3.8.5"
  }
 },
 "nbformat": 4,
 "nbformat_minor": 4
}
